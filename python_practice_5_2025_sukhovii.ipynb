{
  "cells": [
    {
      "cell_type": "markdown",
      "metadata": {
        "id": "5qV_sehzFCTp"
      },
      "source": [
        "# I. OOP"
      ]
    },
    {
      "cell_type": "markdown",
      "metadata": {
        "id": "tx_U_hOALyfg"
      },
      "source": [
        "1. (6б). Створіть клас Building, додайте три атрибути, один з яких має значення за замовчуванням та два методи на свій розсуд."
      ]
    },
    {
      "cell_type": "code",
      "execution_count": 2,
      "metadata": {
        "id": "-Vf895KaL88N"
      },
      "outputs": [],
      "source": [
        "class Building:\n",
        "    def __init__(self, name, floors, material=\"Concrete\"):\n",
        "        self.name = name\n",
        "        self.floors = floors\n",
        "        self.material = material\n",
        "\n",
        "    def describe(self):\n",
        "        return f\"Building '{self.name}' has {self.floors} floors and is made of {self.material}.\"\n",
        "\n",
        "    def renovate(self, new_material):\n",
        "        self.material = new_material\n",
        "        return f\"The building '{self.name}' has been renovated with {self.material}.\""
      ]
    },
    {
      "cell_type": "markdown",
      "metadata": {
        "id": "X_UlOMB0L93w"
      },
      "source": [
        "2. (2б). Створіть два обʼєкти цього класу, де один з обʼєктів створюється із дефолтним значенням атрибуту. На одному обʼєкті отримайте значення його атрибуту, а на іншому викличте один з його методів."
      ]
    },
    {
      "cell_type": "code",
      "execution_count": 3,
      "metadata": {
        "id": "7gBu0ESOMCpG"
      },
      "outputs": [
        {
          "name": "stdout",
          "output_type": "stream",
          "text": [
            "Material of Gulliver: Concrete\n",
            "The building 'Parus Business Center' has been renovated with Steel.\n"
          ]
        }
      ],
      "source": [
        "b1 = Building(\"Gulliver\", 35) \n",
        "b2 = Building(\"Parus Business Center\", 33, \"Glass\")\n",
        "\n",
        "print(f\"Material of {b1.name}: {b1.material}\")\n",
        "\n",
        "print(b2.renovate(\"Steel\"))"
      ]
    },
    {
      "cell_type": "markdown",
      "metadata": {
        "id": "HoqSCZt1MHn5"
      },
      "source": [
        "3. (5б). Створіть клас, де атрибути мають різні рівні доступу. Спробуйте отримати їхні значення та опишіть результати."
      ]
    },
    {
      "cell_type": "code",
      "execution_count": 4,
      "metadata": {
        "id": "r9b3vJxBMSPV"
      },
      "outputs": [
        {
          "name": "stdout",
          "output_type": "stream",
          "text": [
            "Brand: Toyota\n",
            "Model: Camry\n",
            "Cannot access private attribute __year directly!\n",
            "Year (via method): 2020\n"
          ]
        }
      ],
      "source": [
        "class Car:\n",
        "    def __init__(self, brand, model, year):\n",
        "        self.brand = brand \n",
        "        self._model = model \n",
        "        self.__year = year\n",
        "\n",
        "    def get_info(self):\n",
        "        return f\"Car: {self.brand} {self._model}, Year: {self.__year}\"\n",
        "\n",
        "    def update_year(self, new_year):\n",
        "        if new_year > self.__year:\n",
        "            self.__year = new_year\n",
        "            return f\"Year updated to {self.__year}\"\n",
        "        return \"New year must be greater than the current year.\"\n",
        "\n",
        "    def get_year(self):\n",
        "        return self.__year\n",
        "\n",
        "car1 = Car(\"Toyota\", \"Camry\", 2020)\n",
        "\n",
        "print(f\"Brand: {car1.brand}\")  \n",
        "print(f\"Model: {car1._model}\")  \n",
        "try:\n",
        "    print(f\"Year: {car1.__year}\")  \n",
        "except AttributeError:\n",
        "    print(\"Cannot access private attribute __year directly!\")\n",
        "\n",
        "print(f\"Year (via method): {car1.get_year()}\")\n"
      ]
    },
    {
      "cell_type": "markdown",
      "metadata": {
        "id": "5op2m2vgMSkZ"
      },
      "source": [
        "4. (7б). Як ви розумієте термін self? Для чого використовується метод __init __?"
      ]
    },
    {
      "cell_type": "markdown",
      "metadata": {
        "id": "DyiPqNRvMasx"
      },
      "source": [
        "self — це посилання на сам екземпляр класу. Він використовується для доступу до атрибутів та методів об'єкта всередині класу. Завдяки self кожен екземпляр класу може мати власні унікальні значення атрибутів. \n",
        "__init__ — це конструктор класу. Він автоматично викликається при створенні нового об'єкта і використовується для ініціалізації його атрибутів."
      ]
    },
    {
      "cell_type": "markdown",
      "metadata": {
        "id": "-6X8EGfjMd2y"
      },
      "source": [
        "5. (9б). Створіть клас 3D-фігура без атрибутів, з методом get_volume для отримання об'єму фігури, що повертає 0 та __add __, який приймає self та other в якості аргументів, а повертає суму об'ємів 3d-фігур self та other."
      ]
    },
    {
      "cell_type": "code",
      "execution_count": 5,
      "metadata": {
        "id": "4rvO_wYUMaEr"
      },
      "outputs": [],
      "source": [
        "class Shape3D:\n",
        "    def get_volume(self):\n",
        "        return 0\n",
        "    \n",
        "    def __add__(self, other):\n",
        "        if isinstance(other, Shape3D):\n",
        "            return self.get_volume() + other.get_volume()\n",
        "        return NotImplemented"
      ]
    },
    {
      "cell_type": "markdown",
      "metadata": {
        "id": "SFcKnnv5Mo_z"
      },
      "source": [
        "6. (11б). Створіть 2 дочірніх класи від 3d-фігура: Циліндр та Куб, які мають атрибути, необхідні для розрахунку об'єму. Визначте метод get_volume в кожному з них так, щоби вони розраховували об'єм у залежності від формули для кожного типу фігури. Створіть обʼєкт класу Циліндр та обʼєкт класу Куб. Виконайте операцію суми за допомогою оператора + між ними, аби знайти сумарний об'єм."
      ]
    },
    {
      "cell_type": "code",
      "execution_count": 7,
      "metadata": {
        "id": "H3GVNr69Muf3"
      },
      "outputs": [
        {
          "name": "stdout",
          "output_type": "stream",
          "text": [
            "Summary volume: 205.3716694115407\n"
          ]
        }
      ],
      "source": [
        "import math\n",
        "\n",
        "class Cylinder(Shape3D):\n",
        "    def __init__(self, radius, height):\n",
        "        self.radius = radius\n",
        "        self.height = height\n",
        "    \n",
        "    def get_volume(self):\n",
        "        return math.pi * (self.radius ** 2) * self.height\n",
        "\n",
        "class Cube(Shape3D):\n",
        "    def __init__(self, side_length):\n",
        "        self.side_length = side_length\n",
        "    \n",
        "    def get_volume(self):\n",
        "        return self.side_length ** 3\n",
        "\n",
        "cylinder = Cylinder(radius=3, height=5)\n",
        "cube = Cube(side_length=4)\n",
        "\n",
        "total_volume = cylinder + cube\n",
        "\n",
        "print(f\"Summary volume: {total_volume}\")\n"
      ]
    },
    {
      "cell_type": "markdown",
      "metadata": {
        "id": "HCvR206YMvLK"
      },
      "source": [
        "7. (3б). Продемонструйте різницю між isinstance та issubclass."
      ]
    },
    {
      "cell_type": "code",
      "execution_count": 8,
      "metadata": {
        "id": "L_V1bBvDM0GN"
      },
      "outputs": [
        {
          "name": "stdout",
          "output_type": "stream",
          "text": [
            "True\n",
            "True\n",
            "False\n",
            "True\n",
            "False\n",
            "True\n"
          ]
        }
      ],
      "source": [
        "class Animal:\n",
        "    pass\n",
        "\n",
        "class Dog(Animal):\n",
        "    pass\n",
        "\n",
        "a = Animal()\n",
        "d = Dog()\n",
        "\n",
        "print(isinstance(d, Dog))      \n",
        "print(isinstance(d, Animal))   \n",
        "print(isinstance(a, Dog))     \n",
        "\n",
        "print(issubclass(Dog, Animal)) \n",
        "print(issubclass(Animal, Dog)) \n",
        "print(issubclass(Dog, object)) \n"
      ]
    },
    {
      "cell_type": "markdown",
      "metadata": {
        "id": "jjsaBZ-iM0Qq"
      },
      "source": [
        "8. (13б). Створіть клас EWallet з приватними атрибутами balance та id. Реалізуйте методи поповнення та зняття коштів, забезпечивши належну інкапсуляцію. Підказка: використовуйте декоратори property та setter."
      ]
    },
    {
      "cell_type": "code",
      "execution_count": 9,
      "metadata": {
        "id": "xCvZ7lh8M7YA"
      },
      "outputs": [
        {
          "name": "stdout",
          "output_type": "stream",
          "text": [
            "Deposited 50. New balance: 150\n",
            "Withdrew 30. New balance: 120\n",
            "Current balance: 120\n",
            "Insufficient funds\n"
          ]
        }
      ],
      "source": [
        "class EWallet:\n",
        "    def __init__(self, wallet_id, initial_balance=0):\n",
        "        self.__id = wallet_id \n",
        "        self.__balance = initial_balance \n",
        "\n",
        "    @property\n",
        "    def balance(self):\n",
        "        return self.__balance\n",
        "\n",
        "    @balance.setter\n",
        "    def balance(self, value):\n",
        "        if value < 0:\n",
        "            raise ValueError(\"Balance cannot be negative\")\n",
        "        self.__balance = value\n",
        "\n",
        "    def deposit(self, amount):\n",
        "        if amount <= 0:\n",
        "            raise ValueError(\"Deposit amount must be greater than 0\")\n",
        "        self.balance += amount\n",
        "        print(f\"Deposited {amount}. New balance: {self.balance}\")\n",
        "\n",
        "    def withdraw(self, amount):\n",
        "        if amount <= 0:\n",
        "            raise ValueError(\"Withdrawal amount must be greater than 0\")\n",
        "        if amount > self.__balance:\n",
        "            raise ValueError(\"Insufficient funds\")\n",
        "        self.balance -= amount\n",
        "        print(f\"Withdrew {amount}. New balance: {self.balance}\")\n",
        "\n",
        "    def get_id(self):\n",
        "        return self.__id\n",
        "\n",
        "wallet = EWallet(wallet_id=\"12345\", initial_balance=100)\n",
        "\n",
        "wallet.deposit(50) \n",
        "wallet.withdraw(30) \n",
        "\n",
        "print(f\"Current balance: {wallet.balance}\")\n",
        "\n",
        "try:\n",
        "    wallet.withdraw(200)\n",
        "except ValueError as e:\n",
        "    print(e)\n"
      ]
    },
    {
      "cell_type": "markdown",
      "metadata": {
        "id": "tIzL2SJTM8ft"
      },
      "source": [
        "9. (11б). Створіть клас ShoppingCart, який містить список об'єктів типу Item. Реалізуйте методи для додавання айтемів, їх видалення та відображення списку айтемів."
      ]
    },
    {
      "cell_type": "code",
      "execution_count": 10,
      "metadata": {
        "id": "HWxfJKLtNAUZ"
      },
      "outputs": [
        {
          "name": "stdout",
          "output_type": "stream",
          "text": [
            "Item 'Laptop' added to the cart.\n",
            "Item 'Smartphone' added to the cart.\n",
            "Item 'Headphones' added to the cart.\n",
            "Items in the cart:\n",
            "Laptop: $999.99\n",
            "Smartphone: $699.99\n",
            "Headphones: $199.99\n",
            "Item 'Smartphone' removed from the cart.\n",
            "Items in the cart:\n",
            "Laptop: $999.99\n",
            "Headphones: $199.99\n"
          ]
        }
      ],
      "source": [
        "class Item:\n",
        "    def __init__(self, name, price):\n",
        "        self.name = name\n",
        "        self.price = price\n",
        "\n",
        "    def __str__(self):\n",
        "        return f\"{self.name}: ${self.price}\"\n",
        "\n",
        "class ShoppingCart:\n",
        "    def __init__(self):\n",
        "        self.items = [] \n",
        "\n",
        "    def add_item(self, item):\n",
        "        if isinstance(item, Item):\n",
        "            self.items.append(item)\n",
        "            print(f\"Item '{item.name}' added to the cart.\")\n",
        "        else:\n",
        "            print(\"Only items of type 'Item' can be added to the cart.\")\n",
        "\n",
        "    def remove_item(self, item_name):\n",
        "        for item in self.items:\n",
        "            if item.name == item_name:\n",
        "                self.items.remove(item)\n",
        "                print(f\"Item '{item_name}' removed from the cart.\")\n",
        "                return\n",
        "        print(f\"Item '{item_name}' not found in the cart.\")\n",
        "\n",
        "    def display_items(self):\n",
        "        if not self.items:\n",
        "            print(\"The cart is empty.\")\n",
        "        else:\n",
        "            print(\"Items in the cart:\")\n",
        "            for item in self.items:\n",
        "                print(item)\n",
        "\n",
        "cart = ShoppingCart()\n",
        "\n",
        "item1 = Item(\"Laptop\", 999.99)\n",
        "item2 = Item(\"Smartphone\", 699.99)\n",
        "item3 = Item(\"Headphones\", 199.99)\n",
        "\n",
        "cart.add_item(item1)\n",
        "cart.add_item(item2)\n",
        "cart.add_item(item3)\n",
        "\n",
        "cart.display_items()\n",
        "\n",
        "cart.remove_item(\"Smartphone\")\n",
        "\n",
        "cart.display_items()\n"
      ]
    },
    {
      "cell_type": "markdown",
      "metadata": {
        "id": "lmV8pAwwNIqu"
      },
      "source": [
        "10. (13б). Створіть клас Vehicle з атрибутами brand (manufacturer) та production_age. Створіть ще один клас Engine з такими атрибутами, як type (ex. petrol) та size (volume, litres). Створіть клас Car, який успадковує обидва класи Vehicle та Engine. Продемонструйте використання множинної спадковості, створивши обʼєкт класу Car та отримавши mro для цього класу."
      ]
    },
    {
      "cell_type": "code",
      "execution_count": 11,
      "metadata": {
        "id": "R49grKlWNPeN"
      },
      "outputs": [
        {
          "name": "stdout",
          "output_type": "stream",
          "text": [
            "Brand: Toyota\n",
            "Production Age: 5 years\n",
            "Engine Type: Petrol\n",
            "Engine Size: 1.8 litres\n",
            "\n",
            "MRO for Car class: (<class '__main__.Car'>, <class '__main__.Vehicle'>, <class '__main__.Engine'>, <class 'object'>)\n"
          ]
        }
      ],
      "source": [
        "class Vehicle:\n",
        "    def __init__(self, brand, production_age):\n",
        "        self.brand = brand\n",
        "        self.production_age = production_age\n",
        "\n",
        "    def display_info(self):\n",
        "        print(f\"Brand: {self.brand}\")\n",
        "        print(f\"Production Age: {self.production_age} years\")\n",
        "\n",
        "class Engine:\n",
        "    def __init__(self, engine_type, size):\n",
        "        self.engine_type = engine_type  \n",
        "        self.size = size \n",
        "\n",
        "    def display_engine_info(self):\n",
        "        print(f\"Engine Type: {self.engine_type}\")\n",
        "        print(f\"Engine Size: {self.size} litres\")\n",
        "\n",
        "class Car(Vehicle, Engine):\n",
        "    def __init__(self, brand, production_age, engine_type, size):\n",
        "        Vehicle.__init__(self, brand, production_age)\n",
        "        Engine.__init__(self, engine_type, size)\n",
        "\n",
        "    def display_car_info(self):\n",
        "        self.display_info()\n",
        "        self.display_engine_info()\n",
        "\n",
        "my_car = Car(brand=\"Toyota\", production_age=5, engine_type=\"Petrol\", size=1.8)\n",
        "\n",
        "my_car.display_car_info()\n",
        "\n",
        "print(\"\\nMRO for Car class:\", Car.__mro__)\n"
      ]
    },
    {
      "cell_type": "markdown",
      "metadata": {
        "id": "dIJyUiNBFG8G"
      },
      "source": [
        "# II. Iterator"
      ]
    },
    {
      "cell_type": "markdown",
      "metadata": {
        "id": "13vsm0NyKIzL"
      },
      "source": [
        "11. (4б). Визначте рядок(str) з 4ма різними за значенням символами. Створіть ітератор на основі цього рядка. Викличте 5 разів функцію next на ітераторі, 4ри перших з них огорніть у ф-цію print()."
      ]
    },
    {
      "cell_type": "code",
      "execution_count": 12,
      "metadata": {
        "id": "81ntabAkKuz-"
      },
      "outputs": [
        {
          "name": "stdout",
          "output_type": "stream",
          "text": [
            "a\n",
            "b\n",
            "c\n",
            "d\n",
            "Iteration finished.\n"
          ]
        }
      ],
      "source": [
        "my_string = \"abcd\"\n",
        "\n",
        "iterator = iter(my_string)\n",
        "\n",
        "for _ in range(4):\n",
        "    print(next(iterator)) \n",
        "\n",
        "try:\n",
        "    print(next(iterator))\n",
        "except StopIteration:\n",
        "    print(\"Iteration finished.\")\n"
      ]
    },
    {
      "cell_type": "markdown",
      "metadata": {
        "id": "aekWHGXOLRsO"
      },
      "source": [
        "А що якщо викликати цю ж функцію на рядку?"
      ]
    },
    {
      "cell_type": "code",
      "execution_count": 14,
      "metadata": {
        "id": "mxATGsErLV1i"
      },
      "outputs": [
        {
          "ename": "TypeError",
          "evalue": "'str' object is not an iterator",
          "output_type": "error",
          "traceback": [
            "\u001b[0;31m---------------------------------------------------------------------------\u001b[0m",
            "\u001b[0;31mTypeError\u001b[0m                                 Traceback (most recent call last)",
            "\u001b[1;32m/Users/home/Downloads/python_practice_5_2025.ipynb Cell 26\u001b[0m line \u001b[0;36m4\n\u001b[1;32m      <a href='vscode-notebook-cell:/Users/home/Downloads/python_practice_5_2025.ipynb#X34sZmlsZQ%3D%3D?line=0'>1</a>\u001b[0m my_string \u001b[39m=\u001b[39m \u001b[39m\"\u001b[39m\u001b[39mabcd\u001b[39m\u001b[39m\"\u001b[39m\n\u001b[1;32m      <a href='vscode-notebook-cell:/Users/home/Downloads/python_practice_5_2025.ipynb#X34sZmlsZQ%3D%3D?line=2'>3</a>\u001b[0m \u001b[39mfor\u001b[39;00m _ \u001b[39min\u001b[39;00m \u001b[39mrange\u001b[39m(\u001b[39m4\u001b[39m):\n\u001b[0;32m----> <a href='vscode-notebook-cell:/Users/home/Downloads/python_practice_5_2025.ipynb#X34sZmlsZQ%3D%3D?line=3'>4</a>\u001b[0m     \u001b[39mprint\u001b[39m(\u001b[39mnext\u001b[39;49m(my_string))  \n\u001b[1;32m      <a href='vscode-notebook-cell:/Users/home/Downloads/python_practice_5_2025.ipynb#X34sZmlsZQ%3D%3D?line=5'>6</a>\u001b[0m \u001b[39mtry\u001b[39;00m:\n\u001b[1;32m      <a href='vscode-notebook-cell:/Users/home/Downloads/python_practice_5_2025.ipynb#X34sZmlsZQ%3D%3D?line=6'>7</a>\u001b[0m     \u001b[39mprint\u001b[39m(\u001b[39mnext\u001b[39m(my_string)) \n",
            "\u001b[0;31mTypeError\u001b[0m: 'str' object is not an iterator"
          ]
        }
      ],
      "source": [
        "my_string = \"abcd\"\n",
        "\n",
        "for _ in range(4):\n",
        "    print(next(my_string))  \n",
        "\n",
        "try:\n",
        "    print(next(my_string)) \n",
        "except StopIteration:\n",
        "    print(\"Iteration finished.\")\n"
      ]
    },
    {
      "cell_type": "markdown",
      "metadata": {
        "id": "XwtMEopwJ4pH"
      },
      "source": [
        " 12. (5б). Опишіть своїми словами в одному реченні, як ви розумієте різницю між ітерабельними обʼєктами та ітераторами (можна на прикладі)."
      ]
    },
    {
      "cell_type": "markdown",
      "metadata": {
        "id": "-sHrODc3KFn8"
      },
      "source": [
        "Ітерабельні об'єкти (iterable) — це ті, які можна перебирати в циклі (for), наприклад, list, str, dict, але самі не зберігають стан ітерації, тоді як ітератор (iterator) — це об'єкт, отриманий через iter(iterable), який має метод next() для поступового отримання елементів, змінюючи свій стан (наприклад, iter([1, 2, 3]) — ітератор, який повертає по одному елементу за викликом next())."
      ]
    },
    {
      "cell_type": "markdown",
      "metadata": {
        "id": "E9qJWmNbK8Gl"
      },
      "source": [
        "13. (11б). Створіть клас, що має визначений Iterator Protocol та при кожному виклику next повертає назву дня тижня, поки вони не вичерпаються. Зверніть увагу, що порядок має значення."
      ]
    },
    {
      "cell_type": "code",
      "execution_count": 15,
      "metadata": {
        "id": "cqx-g_RsLo6I"
      },
      "outputs": [
        {
          "name": "stdout",
          "output_type": "stream",
          "text": [
            "Monday\n",
            "Tuesday\n",
            "Wednesday\n",
            "Thursday\n",
            "Friday\n",
            "Saturday\n",
            "Sunday\n"
          ]
        }
      ],
      "source": [
        "class WeekIterator:\n",
        "    def __init__(self):\n",
        "        self.days = [\"Monday\", \"Tuesday\", \"Wednesday\", \"Thursday\", \"Friday\", \"Saturday\", \"Sunday\"]\n",
        "        self.index = 0 \n",
        "\n",
        "    def __iter__(self):\n",
        "        return self \n",
        "\n",
        "    def __next__(self):\n",
        "        if self.index < len(self.days):\n",
        "            day = self.days[self.index] \n",
        "            self.index += 1 \n",
        "            return day\n",
        "        else:\n",
        "            raise StopIteration \n",
        "\n",
        "\n",
        "week = WeekIterator()\n",
        "\n",
        "for day in week:\n",
        "    print(day)\n"
      ]
    },
    {
      "cell_type": "markdown",
      "metadata": {
        "id": "Z3E3S_s1Fv7-"
      },
      "source": [
        "# Вітаю! Ви велика(ий) молодець, що впоралась(вся). Похваліть себе та побалуйте чимось приємним. Я Вами пишаюся."
      ]
    }
  ],
  "metadata": {
    "colab": {
      "provenance": []
    },
    "kernelspec": {
      "display_name": "Python 3",
      "name": "python3"
    },
    "language_info": {
      "codemirror_mode": {
        "name": "ipython",
        "version": 3
      },
      "file_extension": ".py",
      "mimetype": "text/x-python",
      "name": "python",
      "nbconvert_exporter": "python",
      "pygments_lexer": "ipython3",
      "version": "3.12.2"
    }
  },
  "nbformat": 4,
  "nbformat_minor": 0
}

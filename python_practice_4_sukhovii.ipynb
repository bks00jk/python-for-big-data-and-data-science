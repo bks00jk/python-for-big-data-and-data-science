{
  "cells": [
    {
      "cell_type": "markdown",
      "metadata": {
        "id": "kXpppdVm6wFy"
      },
      "source": [
        "# I. Functions. Arguments."
      ]
    },
    {
      "cell_type": "markdown",
      "metadata": {
        "id": "u_krJdlbAkVz"
      },
      "source": [
        "1. (5б) Назвіть основні 4 смислові  частини, з яких складається функція."
      ]
    },
    {
      "cell_type": "markdown",
      "metadata": {
        "id": "KKTrTXmHAptb"
      },
      "source": [
        "Заголовок (Header), Тіло функції (Body), Return statement, Function Call"
      ]
    },
    {
      "cell_type": "markdown",
      "metadata": {
        "id": "ORM4PqJQAtDM"
      },
      "source": [
        "2. (3б) Визначте функцію, що приймає 2 аргументи та повертає результат ділення 1го аргумента на інший."
      ]
    },
    {
      "cell_type": "code",
      "execution_count": 1,
      "metadata": {
        "id": "EuDx-z8M6sLo"
      },
      "outputs": [
        {
          "name": "stdout",
          "output_type": "stream",
          "text": [
            "5.0\n"
          ]
        }
      ],
      "source": [
        "def divide(a, b):\n",
        "    if b == 0:\n",
        "        return \"Помилка: ділення на нуль!\"\n",
        "    return a / b\n",
        "\n",
        "\n",
        "result = divide(10, 2)\n",
        "print(result)"
      ]
    },
    {
      "cell_type": "markdown",
      "metadata": {
        "id": "5joQGQ-SAyMe"
      },
      "source": [
        "3. (2б) Викличте вище визначену функцію, де другий аргумент дорівнює 0."
      ]
    },
    {
      "cell_type": "code",
      "execution_count": 3,
      "metadata": {
        "id": "V5cBV1LOA3d-"
      },
      "outputs": [
        {
          "name": "stdout",
          "output_type": "stream",
          "text": [
            "Помилка: ділення на нуль!\n"
          ]
        }
      ],
      "source": [
        "def divide(a, b):\n",
        "    if b == 0:\n",
        "        return \"Помилка: ділення на нуль!\"\n",
        "    return a / b\n",
        "\n",
        "result = divide(10, 0)\n",
        "print(result)\n"
      ]
    },
    {
      "cell_type": "markdown",
      "metadata": {
        "id": "QyimWgW8A43-"
      },
      "source": [
        "4. (4б) Перевизначте функцію так, щоби у випадку ділення на 0 функція повертала None, а в решті випадків - результат розрахунків."
      ]
    },
    {
      "cell_type": "code",
      "execution_count": 4,
      "metadata": {
        "id": "7VIODtSjA8Ek"
      },
      "outputs": [
        {
          "name": "stdout",
          "output_type": "stream",
          "text": [
            "None\n",
            "5.0\n"
          ]
        }
      ],
      "source": [
        "def divide(a, b):\n",
        "    if b == 0:\n",
        "        return None\n",
        "    return a / b\n",
        "\n",
        "result = divide(10, 0)\n",
        "print(result)\n",
        "\n",
        "result = divide(10, 2)\n",
        "print(result) \n"
      ]
    },
    {
      "cell_type": "markdown",
      "metadata": {
        "id": "Y8mN0GfkA81l"
      },
      "source": [
        "5. (5б) Визначте функцію, що віднімає одне число від іншого (підказка: це буде 2 аргументи функції). При чому, якщо не визначити, скільки саме має бути віднято від числа, за замовчуванням має відніматися 1. Викличте функцію, передаючи тільки один аргумент."
      ]
    },
    {
      "cell_type": "code",
      "execution_count": 5,
      "metadata": {
        "id": "vg1kxkdgBA50"
      },
      "outputs": [
        {
          "name": "stdout",
          "output_type": "stream",
          "text": [
            "9\n",
            "7\n"
          ]
        }
      ],
      "source": [
        "def subtract(a, b=1):\n",
        "    return a - b\n",
        "\n",
        "result = subtract(10)  \n",
        "print(result) \n",
        "\n",
        "result = subtract(10, 3) \n",
        "print(result)\n"
      ]
    },
    {
      "cell_type": "markdown",
      "metadata": {
        "id": "D3mwQGNOBBs4"
      },
      "source": [
        "6. (7б) Визначте функцію, яка приймає iterable (ітерабельний обʼєкт, напр. список), що складається з 7ми рядкових значень - назв погодних умов (напр. \"sunny\") за кожен день у тижні. Повертає функція словник, де ключами є рядки з погодними умовами, а значеннями - кількість разів, скільки дана погода була протягом тижня (напр. {'sunny': 1, ...}). Викличте цю функцію та виведіть результат її роботи на екран."
      ]
    },
    {
      "cell_type": "code",
      "execution_count": 6,
      "metadata": {
        "id": "OsWm-hKcBFyn"
      },
      "outputs": [
        {
          "name": "stdout",
          "output_type": "stream",
          "text": [
            "{'sunny': 3, 'rainy': 2, 'cloudy': 1, 'snowy': 1}\n"
          ]
        }
      ],
      "source": [
        "def count_weather_conditions(week_weather):\n",
        "    weather_counts = {}\n",
        "    for condition in week_weather:\n",
        "        weather_counts[condition] = weather_counts.get(condition, 0) + 1\n",
        "    return weather_counts\n",
        "\n",
        "week_weather = [\"sunny\", \"rainy\", \"cloudy\", \"sunny\", \"rainy\", \"sunny\", \"snowy\"]\n",
        "result = count_weather_conditions(week_weather)\n",
        "print(result)\n"
      ]
    },
    {
      "cell_type": "markdown",
      "metadata": {
        "id": "RMiCcdOsBKQT"
      },
      "source": [
        "7. (15б) Напишіть програму, яка б шукала необхідне число у впорядкованому списку цілочислених значень, де\n",
        "число має вводитись з консолі.\n",
        "власне алгоритм пошуку винесений в окрему функцію, яка повертає булеве значення (знайдено число - True, не знайдено - False).\n",
        "в залежності від результату функції, виведіть на екран повідомлення про успішний або ж неуспішний пошук.\n",
        "Зауваження: використовувати оператор in заборонено."
      ]
    },
    {
      "cell_type": "code",
      "execution_count": 8,
      "metadata": {
        "id": "UNCZg65OBOy-"
      },
      "outputs": [
        {
          "name": "stdout",
          "output_type": "stream",
          "text": [
            "Число знайдено у списку!\n"
          ]
        }
      ],
      "source": [
        "def binary_search(sorted_list, target):\n",
        "    left, right = 0, len(sorted_list) - 1\n",
        "    \n",
        "    while left <= right:\n",
        "        mid = (left + right) // 2 \n",
        "        if sorted_list[mid] == target:\n",
        "            return True\n",
        "        elif sorted_list[mid] < target:\n",
        "            left = mid + 1 \n",
        "        else:\n",
        "            right = mid - 1 \n",
        "    \n",
        "    return False \n",
        "\n",
        "sorted_numbers = [1, 3, 5, 7, 9, 11, 13, 15, 17, 19]\n",
        "\n",
        "target_number = int(input(\"Введіть число для пошуку: \"))\n",
        "\n",
        "found = binary_search(sorted_numbers, target_number)\n",
        "\n",
        "if found:\n",
        "    print(\"Число знайдено у списку!\")\n",
        "else:\n",
        "    print(\"Число не знайдено у списку.\")\n"
      ]
    },
    {
      "cell_type": "markdown",
      "metadata": {
        "id": "Ae1n_OvLBTsy"
      },
      "source": [
        "# II. Lambda functions."
      ]
    },
    {
      "cell_type": "markdown",
      "metadata": {
        "id": "xaD_wSlaCWen"
      },
      "source": [
        "8. (4б) В яких випадках варто використовувати лямбда-функції?"
      ]
    },
    {
      "cell_type": "markdown",
      "metadata": {
        "id": "42MB6OoLCakR"
      },
      "source": [
        "Лямбда-функції варто використовувати для коротких, одноразових операцій, коли немає потреби уявно називати функцію, наприклад, у map(), filter(), sorted() або як колбек в анонімних викликах."
      ]
    },
    {
      "cell_type": "markdown",
      "metadata": {
        "id": "USrzrk7GCedk"
      },
      "source": [
        "9. (9б) Визначте список з рядками. Після цього визначте анонімну функцію для отримання першого символу у верхньому регістрі для кожного рядка списку.\n",
        "Підказка: використовуйте анонімну функцію в якості агрумента до вбудованої ф-ції, яка створена для застосування функцій над iterable обʼєктами. Результат виведіть на екран у вигляді кортежу."
      ]
    },
    {
      "cell_type": "code",
      "execution_count": 9,
      "metadata": {
        "id": "M8QWUsMlCjWH"
      },
      "outputs": [
        {
          "name": "stdout",
          "output_type": "stream",
          "text": [
            "('A', 'B', 'C', 'D', 'E')\n"
          ]
        }
      ],
      "source": [
        "words = [\"apple\", \"banana\", \"cherry\", \"date\", \"elderberry\"]\n",
        "\n",
        "result = tuple(map(lambda word: word[0].upper(), words))\n",
        "\n",
        "print(result)\n"
      ]
    },
    {
      "cell_type": "markdown",
      "metadata": {
        "id": "9fyUhXOoCtGp"
      },
      "source": [
        "10. (10б) Визначте список з числовими значеннями (і цілими, і з рухомою комою). а) Відфільтруйте всі числа, які діляться націло на 3 за допомогою вбудованої функції та анонімної функції в якості аргумента). Збережіть результат у змінній, не приводяти явно до будь-якого типу. б) Використовуючи результат на кроці 12.а у якості аргументу, та за допомогою лямбда-функції в якості іншого аргументу до вбудованої функції, додайте до кожного елементу число 1 та опісля зведіть у квадрат. Остаточний результат приведіть явно до списку та виведіть на екран."
      ]
    },
    {
      "cell_type": "code",
      "execution_count": 10,
      "metadata": {
        "id": "exEx2_okCsql"
      },
      "outputs": [
        {
          "name": "stdout",
          "output_type": "stream",
          "text": [
            "[16, 49, 100.0, 169, 256, 484]\n"
          ]
        }
      ],
      "source": [
        "numbers = [1, 3, 4.5, 6, 9.0, 10, 12, 15, 20.1, 21]\n",
        "\n",
        "filtered_numbers = filter(lambda x: x % 3 == 0, numbers)\n",
        "\n",
        "result = list(map(lambda x: (x + 1) ** 2, filtered_numbers))\n",
        "\n",
        "print(result)\n"
      ]
    },
    {
      "cell_type": "markdown",
      "metadata": {
        "id": "o_x8cG_WC7jp"
      },
      "source": [
        "# III. Decorators."
      ]
    },
    {
      "cell_type": "markdown",
      "metadata": {
        "id": "mhxS4-mfC8LQ"
      },
      "source": [
        "11. (11б) Визначте декоратор, який би виводив у консоль повідомлення про початок роботи і назву функції (напр. my_function._ _ name _ _), а після відпрацювання функції - повідомлення про закінчення роботи і назву функції, що задекорована."
      ]
    },
    {
      "cell_type": "code",
      "execution_count": 11,
      "metadata": {
        "id": "srd1ygWjDGhO"
      },
      "outputs": [
        {
          "name": "stdout",
          "output_type": "stream",
          "text": [
            "Початок роботи функції: my_function\n",
            "Функція виконується.\n",
            "Закінчення роботи функції: my_function\n"
          ]
        }
      ],
      "source": [
        "def log_function(func):\n",
        "    def wrapper(*args, **kwargs):\n",
        "        print(f\"Початок роботи функції: {func.__name__}\")\n",
        "        result = func(*args, **kwargs)\n",
        "        print(f\"Закінчення роботи функції: {func.__name__}\")\n",
        "        return result\n",
        "    return wrapper\n",
        "\n",
        "@log_function\n",
        "def my_function():\n",
        "    print(\"Функція виконується.\")\n",
        "\n",
        "my_function()\n"
      ]
    },
    {
      "cell_type": "markdown",
      "metadata": {
        "id": "rxGZwVBiDph3"
      },
      "source": [
        "12. (4б) Задекоруйте двома різними способами функції з завдання 4 та 5 декоратором із завдання 11. (**УВАГА**: не декоруйте функції двічі!)."
      ]
    },
    {
      "cell_type": "code",
      "execution_count": 15,
      "metadata": {
        "id": "06lj7eq_DwZe"
      },
      "outputs": [
        {
          "name": "stdout",
          "output_type": "stream",
          "text": [
            "Початок роботи функції: divide\n",
            "Закінчення роботи функції: divide\n",
            "None\n",
            "Початок роботи функції: divide\n",
            "Закінчення роботи функції: divide\n",
            "5.0\n",
            "Початок роботи функції: subtract\n",
            "Закінчення роботи функції: subtract\n",
            "9\n",
            "Початок роботи функції: subtract\n",
            "Закінчення роботи функції: subtract\n",
            "7\n"
          ]
        }
      ],
      "source": [
        "def log_function(func):\n",
        "    def wrapper(*args, **kwargs):\n",
        "        print(f\"Початок роботи функції: {func.__name__}\")\n",
        "        result = func(*args, **kwargs)\n",
        "        print(f\"Закінчення роботи функції: {func.__name__}\")\n",
        "        return result\n",
        "    return wrapper\n",
        "\n",
        "@log_function\n",
        "def divide(a, b):\n",
        "    if b == 0:\n",
        "        return None\n",
        "    return a / b\n",
        "\n",
        "@log_function\n",
        "def subtract(a, b=1):\n",
        "    return a - b\n",
        "\n",
        "result = divide(10, 0)\n",
        "print(result)\n",
        "\n",
        "result = divide(10, 2)\n",
        "print(result)\n",
        "\n",
        "\n",
        "result = subtract(10)  \n",
        "print(result) \n",
        "\n",
        "result = subtract(10, 3) \n",
        "print(result)\n",
        "\n"
      ]
    },
    {
      "cell_type": "markdown",
      "metadata": {
        "id": "P0ep1urBDzf-"
      },
      "source": [
        "13. (2б) Викличте одну з задекорованих функцій і виведіть її результат на екран."
      ]
    },
    {
      "cell_type": "code",
      "execution_count": 17,
      "metadata": {
        "id": "1QvTw0ctD0S3"
      },
      "outputs": [
        {
          "name": "stdout",
          "output_type": "stream",
          "text": [
            "Початок роботи функції: divide\n",
            "Закінчення роботи функції: divide\n",
            "5.0\n",
            "Початок роботи функції: subtract\n",
            "Закінчення роботи функції: subtract\n",
            "9\n"
          ]
        }
      ],
      "source": [
        "result = divide(10, 2)  \n",
        "print(result) \n",
        "\n",
        "result = subtract(10)  \n",
        "print(result)"
      ]
    },
    {
      "cell_type": "markdown",
      "metadata": {
        "id": "poECCpuoD2S9"
      },
      "source": [
        "# IV. Recursion."
      ]
    },
    {
      "cell_type": "markdown",
      "metadata": {
        "id": "DqkURfdsD7MY"
      },
      "source": [
        "14. (4б) Назвіть дві частини функції, які є обовʼязковими для того, щоб називати її рекурсивною."
      ]
    },
    {
      "cell_type": "markdown",
      "metadata": {
        "id": "HYW6ttIeIQIU"
      },
      "source": [
        "Рекурсивний виклик, умова завершення"
      ]
    },
    {
      "cell_type": "markdown",
      "metadata": {
        "id": "WYVt20UmEA35"
      },
      "source": [
        "15. (15б) Визначте функцію, яка рекурсивно реалізовує пошук числа у послідовності Фібоначчі за її індексом (нумерація починається з нуля). Наприклад, потрібно знайти перше число у послідовності, тоді функція прийматиме 0 у якості аргумента і повертатиме 1, якщо ж знаходити третє число (індекс 2) послідовності, то функція повертатиме 2, якщо ж знаходити десяте число (індекс 9), то функція повертатиме 55."
      ]
    },
    {
      "cell_type": "code",
      "execution_count": 18,
      "metadata": {
        "id": "xIMhp05AIpV_"
      },
      "outputs": [
        {
          "name": "stdout",
          "output_type": "stream",
          "text": [
            "0\n",
            "1\n",
            "34\n"
          ]
        }
      ],
      "source": [
        "def fibonacci(n):\n",
        "    if n == 0:\n",
        "        return 0\n",
        "    elif n == 1:\n",
        "        return 1\n",
        "    else:\n",
        "        return fibonacci(n - 1) + fibonacci(n - 2)\n",
        "\n",
        "print(fibonacci(0))  \n",
        "print(fibonacci(2)) \n",
        "print(fibonacci(9)) \n"
      ]
    },
    {
      "cell_type": "markdown",
      "metadata": {
        "id": "ytXC8n_4Ip0W"
      },
      "source": [
        "# Вітаю! Ви велика(ий) молодець, що впоралась(вся). Похваліть себе та побалуйте чимось приємним. Я Вами пишаюся."
      ]
    }
  ],
  "metadata": {
    "colab": {
      "provenance": []
    },
    "kernelspec": {
      "display_name": "Python 3",
      "name": "python3"
    },
    "language_info": {
      "codemirror_mode": {
        "name": "ipython",
        "version": 3
      },
      "file_extension": ".py",
      "mimetype": "text/x-python",
      "name": "python",
      "nbconvert_exporter": "python",
      "pygments_lexer": "ipython3",
      "version": "3.12.2"
    }
  },
  "nbformat": 4,
  "nbformat_minor": 0
}
